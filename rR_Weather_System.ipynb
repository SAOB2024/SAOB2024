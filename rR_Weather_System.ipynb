{
  "nbformat": 4,
  "nbformat_minor": 0,
  "metadata": {
    "colab": {
      "provenance": [],
      "authorship_tag": "ABX9TyOdXm54RaAgTSCdK84Xochw",
      "include_colab_link": true
    },
    "kernelspec": {
      "name": "ir",
      "display_name": "R"
    },
    "language_info": {
      "name": "R"
    }
  },
  "cells": [
    {
      "cell_type": "markdown",
      "metadata": {
        "id": "view-in-github",
        "colab_type": "text"
      },
      "source": [
        "<a href=\"https://colab.research.google.com/github/SAOB2024/SAOB2024/blob/main/rR_Weather_System.ipynb\" target=\"_parent\"><img src=\"https://colab.research.google.com/assets/colab-badge.svg\" alt=\"Open In Colab\"/></a>"
      ]
    },
    {
      "cell_type": "code",
      "execution_count": null,
      "metadata": {
        "colab": {
          "base_uri": "https://localhost:8080/"
        },
        "id": "qdrBPI9DUfS5",
        "outputId": "49afdd19-8790-4040-a1b9-bfa587008f0e"
      },
      "outputs": [
        {
          "output_type": "stream",
          "name": "stdout",
          "text": [
            "Please enter the current temperature(in Celcius):50\n",
            "[1] \"It's really hot! Try to stay indoors and stay hydrated.\"\n"
          ]
        }
      ],
      "source": [
        "#step 1 setting up the environment\n",
        "#Ask the user to enter the current temp.\n",
        "temperature_input<-readline(prompt = \"Please enter the current temperature(in Celcius):\")\n",
        "temperature<-as.numeric(temperature_input)\n",
        "#convert the input to numeric\n",
        "#provide activity suggestions based on temperature\n",
        "if(temperature>30){\n",
        "    print(\"It's really hot! Try to stay indoors and stay hydrated.\")\n",
        "}else if (temperature>20){\n",
        "    print(\"It's a nice day for a walk or a picnic.\")\n",
        "}else if(temperature>10){\n",
        "    print(\"It's a bit chilly,consider wearing a jacket if you are going out.\")\n",
        "}else if(temperature>0){\n",
        "    print(\"It's cold! Keep warm and consider indoor activities.\")\n",
        "}else{\n",
        "    print(\"It's freezing! Best to stay indoors and keep warm\")\n",
        "}"
      ]
    },
    {
      "source": [
        "# Ask the user to enter the current temperature, wind speed, and rain status\n",
        "temperature_input <- readline(prompt = \"Please enter the current temperature (in Celsius): \")\n",
        "temperature <- as.numeric(temperature_input)\n",
        "\n",
        "wind_speed_input <- readline(prompt = \"Please enter the current wind speed (in km/h): \")\n",
        "wind_speed <- as.numeric(wind_speed_input)\n",
        "\n",
        "rain_input <- readline(prompt = \"Is it currently raining? (yes/no): \")\n",
        "\n",
        "# Provide activity suggestions based on temperature, wind speed, and rain status\n",
        "if (temperature > 30) {\n",
        "  print(\"It's really hot! Try to stay indoors and stay hydrated.\")\n",
        "} else if (temperature > 20) {\n",
        "  if (wind_speed < 20 && rain_input == \"no\") {\n",
        "    print(\"It's a nice day for a walk or a picnic.\")\n",
        "  } else {\n",
        "    print(\"It's a bit windy or rainy. Consider a light jacket or staying indoors.\")\n",
        "  }\n",
        "} else if (temperature > 10) {\n",
        "  if (wind_speed < 30 && rain_input == \"no\") {\n",
        "    print(\"It's a bit chilly. Consider wearing a jacket if you are going out.\")\n",
        "  } else {\n",
        "    print(\"It's chilly and windy or rainy. Consider a warmer jacket,or go fly a kite, or staying indoors.\")\n",
        "  }\n",
        "} else if (temperature > 0) {\n",
        "  if (wind_speed < 40 && rain_input == \"no\") {\n",
        "    print(\"It's cold! Keep warm and consider indoor activities.\")\n",
        "  } else {\n",
        "    print(\"It's cold and windy or rainy. Bundle up if you go outside!\")\n",
        "  }\n",
        "} else {\n",
        "  print(\"It's freezing! Best to stay indoors and keep warm.\")\n",
        "}\n"
      ],
      "cell_type": "code",
      "metadata": {
        "id": "8dXwSZgs_o7b",
        "colab": {
          "base_uri": "https://localhost:8080/"
        },
        "outputId": "655ff21c-5cf8-411b-d788-feba1a06f99b"
      },
      "execution_count": 1,
      "outputs": [
        {
          "output_type": "stream",
          "name": "stdout",
          "text": [
            "Please enter the current temperature (in Celsius): 30\n",
            "Please enter the current wind speed (in km/h): 40\n",
            "Is it currently raining? (yes/no): yes\n",
            "[1] \"It's a bit windy or rainy. Consider a light jacket or staying indoors.\"\n"
          ]
        }
      ]
    },
    {
      "cell_type": "code",
      "source": [],
      "metadata": {
        "id": "7Os8Tny4Ps56"
      },
      "execution_count": null,
      "outputs": []
    },
    {
      "source": [
        "df <- data.frame(\n",
        "  Temperature = c(35, 25, 15, 5, -5),\n",
        "  Wind_Speed = c(15, 25, 35, 45, 55),\n",
        "  Rain = c(\"no\", \"no\", \"yes\", \"yes\", \"no\"),\n",
        "  Activity = c(\"Stay indoors and stay hydrated\", \"Nice day for a walk or a picnic\", \"Chilly and windy or rainy. Consider a warmer jacket, or go fly a kite, or staying indoors.\", \"Cold and windy or rainy. Bundle up if you go outside!\", \"Freezing! Best to stay indoors and keep warm.\")\n",
        ")\n",
        "df"
      ],
      "cell_type": "code",
      "metadata": {
        "colab": {
          "base_uri": "https://localhost:8080/",
          "height": 255
        },
        "id": "qKyVkPF6PuDz",
        "outputId": "0e36cf7c-a13a-46c8-ae26-008c93f9619e"
      },
      "execution_count": 4,
      "outputs": [
        {
          "output_type": "display_data",
          "data": {
            "text/html": [
              "<table class=\"dataframe\">\n",
              "<caption>A data.frame: 5 × 4</caption>\n",
              "<thead>\n",
              "\t<tr><th scope=col>Temperature</th><th scope=col>Wind_Speed</th><th scope=col>Rain</th><th scope=col>Activity</th></tr>\n",
              "\t<tr><th scope=col>&lt;dbl&gt;</th><th scope=col>&lt;dbl&gt;</th><th scope=col>&lt;chr&gt;</th><th scope=col>&lt;chr&gt;</th></tr>\n",
              "</thead>\n",
              "<tbody>\n",
              "\t<tr><td>35</td><td>15</td><td>no </td><td>Stay indoors and stay hydrated                                                            </td></tr>\n",
              "\t<tr><td>25</td><td>25</td><td>no </td><td>Nice day for a walk or a picnic                                                           </td></tr>\n",
              "\t<tr><td>15</td><td>35</td><td>yes</td><td>Chilly and windy or rainy. Consider a warmer jacket, or go fly a kite, or staying indoors.</td></tr>\n",
              "\t<tr><td> 5</td><td>45</td><td>yes</td><td>Cold and windy or rainy. Bundle up if you go outside!                                     </td></tr>\n",
              "\t<tr><td>-5</td><td>55</td><td>no </td><td>Freezing! Best to stay indoors and keep warm.                                             </td></tr>\n",
              "</tbody>\n",
              "</table>\n"
            ],
            "text/markdown": "\nA data.frame: 5 × 4\n\n| Temperature &lt;dbl&gt; | Wind_Speed &lt;dbl&gt; | Rain &lt;chr&gt; | Activity &lt;chr&gt; |\n|---|---|---|---|\n| 35 | 15 | no  | Stay indoors and stay hydrated                                                             |\n| 25 | 25 | no  | Nice day for a walk or a picnic                                                            |\n| 15 | 35 | yes | Chilly and windy or rainy. Consider a warmer jacket, or go fly a kite, or staying indoors. |\n|  5 | 45 | yes | Cold and windy or rainy. Bundle up if you go outside!                                      |\n| -5 | 55 | no  | Freezing! Best to stay indoors and keep warm.                                              |\n\n",
            "text/latex": "A data.frame: 5 × 4\n\\begin{tabular}{llll}\n Temperature & Wind\\_Speed & Rain & Activity\\\\\n <dbl> & <dbl> & <chr> & <chr>\\\\\n\\hline\n\t 35 & 15 & no  & Stay indoors and stay hydrated                                                            \\\\\n\t 25 & 25 & no  & Nice day for a walk or a picnic                                                           \\\\\n\t 15 & 35 & yes & Chilly and windy or rainy. Consider a warmer jacket, or go fly a kite, or staying indoors.\\\\\n\t  5 & 45 & yes & Cold and windy or rainy. Bundle up if you go outside!                                     \\\\\n\t -5 & 55 & no  & Freezing! Best to stay indoors and keep warm.                                             \\\\\n\\end{tabular}\n",
            "text/plain": [
              "  Temperature Wind_Speed Rain\n",
              "1 35          15         no  \n",
              "2 25          25         no  \n",
              "3 15          35         yes \n",
              "4  5          45         yes \n",
              "5 -5          55         no  \n",
              "  Activity                                                                                  \n",
              "1 Stay indoors and stay hydrated                                                            \n",
              "2 Nice day for a walk or a picnic                                                           \n",
              "3 Chilly and windy or rainy. Consider a warmer jacket, or go fly a kite, or staying indoors.\n",
              "4 Cold and windy or rainy. Bundle up if you go outside!                                     \n",
              "5 Freezing! Best to stay indoors and keep warm.                                             "
            ]
          },
          "metadata": {}
        }
      ]
    }
  ]
}
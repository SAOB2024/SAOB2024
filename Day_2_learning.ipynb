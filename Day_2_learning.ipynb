{
  "nbformat": 4,
  "nbformat_minor": 0,
  "metadata": {
    "colab": {
      "provenance": [],
      "authorship_tag": "ABX9TyM0lO2Bvd5feXANKowiLdXz",
      "include_colab_link": true
    },
    "kernelspec": {
      "name": "python3",
      "display_name": "Python 3"
    },
    "language_info": {
      "name": "python"
    }
  },
  "cells": [
    {
      "cell_type": "markdown",
      "metadata": {
        "id": "view-in-github",
        "colab_type": "text"
      },
      "source": [
        "<a href=\"https://colab.research.google.com/github/SAOB2024/SAOB2024/blob/main/Day_2_learning.ipynb\" target=\"_parent\"><img src=\"https://colab.research.google.com/assets/colab-badge.svg\" alt=\"Open In Colab\"/></a>"
      ]
    },
    {
      "cell_type": "code",
      "execution_count": null,
      "metadata": {
        "id": "clqz41ZX5c-E",
        "colab": {
          "base_uri": "https://localhost:8080/"
        },
        "outputId": "40bf2437-cff7-4e4c-a00f-c42cdb2dc416"
      },
      "outputs": [
        {
          "output_type": "stream",
          "name": "stdout",
          "text": [
            "What is the weather today? (sunny, windy, cold) cold\n",
            "Don't forget your scarf and gloves!\n"
          ]
        }
      ],
      "source": [
        "# prompt: weather=input(\"what is the weather today?\" sunny, windy, cold, windy\")\n",
        "\n",
        "weather = input(\"What is the weather today? (sunny, windy, cold) \")\n",
        "\n",
        "# Now you can use the 'weather' variable in your code.\n",
        "if weather == \"sunny\":\n",
        "  print(\"It's a great day for a picnic!\")\n",
        "elif weather == \"windy\":\n",
        "  print(\"Remember to bring a jacket!\")\n",
        "elif weather == \"cold\":\n",
        "  print(\"Don't forget your scarf and gloves!\")\n",
        "else:\n",
        "  print(\"I don't understand that weather condition.\")\n"
      ]
    },
    {
      "cell_type": "markdown",
      "source": [
        "\n"
      ],
      "metadata": {
        "id": "F4mtEWGrVd2p"
      }
    },
    {
      "cell_type": "code",
      "source": [
        "\n"
      ],
      "metadata": {
        "id": "d7R0VsM3S4L6"
      },
      "execution_count": null,
      "outputs": []
    },
    {
      "source": [
        "temperature = input(\"What is the temperature like? (hot, warm, cool, cold) \")\n",
        "if temperature == \"hot\":\n",
        "  print(\"It's a hot day!\")\n",
        "  if temperature == \"warm\":\n",
        "    print(\"It's a warm day!\")\n",
        "    if temperature == \"cool\":\n",
        "      print(\"It's a cool day!\")\n",
        "      if temperature == \"cold\":\n",
        "        print(\"It's a cold day!\")\n"
      ],
      "cell_type": "code",
      "metadata": {
        "colab": {
          "base_uri": "https://localhost:8080/"
        },
        "id": "gU3VSiKlaHHX",
        "outputId": "5c7a5e2f-df75-4dd0-81cd-1b1131b62ebe"
      },
      "execution_count": null,
      "outputs": [
        {
          "output_type": "stream",
          "name": "stdout",
          "text": [
            "What is the temperature like? (hot, warm, cool, cold) hot\n",
            "It's a hot day!\n"
          ]
        }
      ]
    },
    {
      "cell_type": "code",
      "source": [],
      "metadata": {
        "id": "v8iPea0XfMZv"
      },
      "execution_count": null,
      "outputs": []
    },
    {
      "source": [
        "is_humid = input(\"Is it humid today? (yes or no) \")\n",
        "\n",
        "if is_humid == \"yes\":\n",
        "  print(\"Stay indoor!\")\n",
        "elif is_humid == \"no\":\n",
        "  print(\"Go shopping!\")\n",
        "else:\n",
        "  print(\"Go camping.\")"
      ],
      "cell_type": "code",
      "metadata": {
        "colab": {
          "base_uri": "https://localhost:8080/"
        },
        "id": "pp1M1KVMfq8o",
        "outputId": "0e736266-e89f-43e6-e071-ad0b3293aa93"
      },
      "execution_count": null,
      "outputs": [
        {
          "output_type": "stream",
          "name": "stdout",
          "text": [
            "Is it humid today? (yes or no) yes\n",
            "Stay indoor!\n"
          ]
        }
      ]
    },
    {
      "cell_type": "code",
      "source": [],
      "metadata": {
        "id": "kxUYZnq5gP12"
      },
      "execution_count": null,
      "outputs": []
    },
    {
      "source": [],
      "cell_type": "code",
      "metadata": {
        "colab": {
          "base_uri": "https://localhost:8080/"
        },
        "id": "YpiSJ6AGg7D8",
        "outputId": "ffa36f70-f865-404b-c63e-9b156c79b3b5"
      },
      "execution_count": null,
      "outputs": [
        {
          "output_type": "stream",
          "name": "stdout",
          "text": [
            "What is the weather today? (sunny, windy, cold) cold\n",
            "Is it humid today? (yes or no) yes\n",
            "I need more information to suggest an outfit.\n"
          ]
        }
      ]
    },
    {
      "cell_type": "code",
      "source": [],
      "metadata": {
        "id": "mHKSkf4yMzhV"
      },
      "execution_count": null,
      "outputs": []
    }
  ]
}
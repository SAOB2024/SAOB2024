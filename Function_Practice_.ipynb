{
  "nbformat": 4,
  "nbformat_minor": 0,
  "metadata": {
    "colab": {
      "provenance": [],
      "authorship_tag": "ABX9TyNmNX3AVTdP6m+qpHW6sNFP",
      "include_colab_link": true
    },
    "kernelspec": {
      "name": "python3",
      "display_name": "Python 3"
    },
    "language_info": {
      "name": "python"
    }
  },
  "cells": [
    {
      "cell_type": "markdown",
      "metadata": {
        "id": "view-in-github",
        "colab_type": "text"
      },
      "source": [
        "<a href=\"https://colab.research.google.com/github/SAOB2024/SAOB2024/blob/main/Function_Practice_.ipynb\" target=\"_parent\"><img src=\"https://colab.research.google.com/assets/colab-badge.svg\" alt=\"Open In Colab\"/></a>"
      ]
    },
    {
      "cell_type": "code",
      "execution_count": null,
      "metadata": {
        "id": "UXKVO3JXSKwD"
      },
      "outputs": [],
      "source": []
    },
    {
      "cell_type": "code",
      "source": [],
      "metadata": {
        "id": "OTkcyIYPSqPY"
      },
      "execution_count": null,
      "outputs": []
    },
    {
      "source": [
        "def greet():\n",
        "  print(\"Hello world!\")\n",
        "\n",
        "greet()"
      ],
      "cell_type": "code",
      "metadata": {
        "colab": {
          "base_uri": "https://localhost:8080/"
        },
        "id": "pHQ0C-98S88a",
        "outputId": "bb39cac0-800f-4848-d2ee-595a8aeb49fb"
      },
      "execution_count": null,
      "outputs": [
        {
          "output_type": "stream",
          "name": "stdout",
          "text": [
            "Hello world!\n"
          ]
        }
      ]
    },
    {
      "source": [
        "def multiply_by_two(x):\n",
        "  return x * 2\n",
        "\n",
        "result= multiply_by_two(5)\n",
        "print(result)\n"
      ],
      "cell_type": "code",
      "metadata": {
        "colab": {
          "base_uri": "https://localhost:8080/"
        },
        "id": "5mW3mY1iTbxP",
        "outputId": "6fffca26-ceb2-40bc-d7c3-33f8cce8b607"
      },
      "execution_count": null,
      "outputs": [
        {
          "output_type": "stream",
          "name": "stdout",
          "text": [
            "10\n"
          ]
        }
      ]
    },
    {
      "cell_type": "code",
      "source": [],
      "metadata": {
        "id": "NDeFM5uIU2ul"
      },
      "execution_count": null,
      "outputs": []
    },
    {
      "source": [
        "def is_even(number):\n",
        "  if number % 2 == 0:\n",
        "    return True\n",
        "  else:\n",
        "    return False\n",
        "#Test the function\n",
        "result= is_even(4)\n",
        "print(result)"
      ],
      "cell_type": "code",
      "metadata": {
        "colab": {
          "base_uri": "https://localhost:8080/"
        },
        "id": "CWMScQUcVaBR",
        "outputId": "9aae56ee-a49a-435a-c84b-dc287effc712"
      },
      "execution_count": null,
      "outputs": [
        {
          "output_type": "stream",
          "name": "stdout",
          "text": [
            "True\n"
          ]
        }
      ]
    },
    {
      "source": [
        "def greet_person(name):\n",
        "  print(\"Hello \" + name + \"! Nice to meet you.\")\n",
        "\n",
        "# Example usage:\n",
        "greet_person(\"Alice\")"
      ],
      "cell_type": "code",
      "metadata": {
        "colab": {
          "base_uri": "https://localhost:8080/"
        },
        "id": "uUD1GndyWjRb",
        "outputId": "feef4e94-2dcd-445a-cd83-26a6f761007b"
      },
      "execution_count": null,
      "outputs": [
        {
          "output_type": "stream",
          "name": "stdout",
          "text": [
            "Hello Alice! Nice to meet you.\n"
          ]
        }
      ]
    },
    {
      "source": [
        "def find_largest(num1, num2, num3):\n",
        "  largest = num1\n",
        "  if num2 > largest:\n",
        "    largest = num2\n",
        "  if num3 > largest:\n",
        "    largest = num3\n",
        "  return largest\n",
        "\n",
        "# Example usage:\n",
        "result = find_largest(10, 5, 8)\n",
        "print(result)  # Output: 10"
      ],
      "cell_type": "code",
      "metadata": {
        "colab": {
          "base_uri": "https://localhost:8080/"
        },
        "id": "kar1xKfWXGJG",
        "outputId": "1fb79782-a041-4529-afe1-a84d5666b1a5"
      },
      "execution_count": null,
      "outputs": [
        {
          "output_type": "stream",
          "name": "stdout",
          "text": [
            "10\n"
          ]
        }
      ]
    },
    {
      "cell_type": "code",
      "source": [],
      "metadata": {
        "id": "aTOrh_VyTE-s"
      },
      "execution_count": null,
      "outputs": []
    }
  ]
}
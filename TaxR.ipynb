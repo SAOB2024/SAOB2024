{
  "nbformat": 4,
  "nbformat_minor": 0,
  "metadata": {
    "colab": {
      "provenance": [],
      "authorship_tag": "ABX9TyMeNJivpo6eoQBQ2CR0MHuO",
      "include_colab_link": true
    },
    "kernelspec": {
      "name": "ir",
      "display_name": "R"
    },
    "language_info": {
      "name": "R"
    }
  },
  "cells": [
    {
      "cell_type": "markdown",
      "metadata": {
        "id": "view-in-github",
        "colab_type": "text"
      },
      "source": [
        "<a href=\"https://colab.research.google.com/github/SAOB2024/SAOB2024/blob/main/TaxR.ipynb\" target=\"_parent\"><img src=\"https://colab.research.google.com/assets/colab-badge.svg\" alt=\"Open In Colab\"/></a>"
      ]
    },
    {
      "cell_type": "code",
      "execution_count": 2,
      "metadata": {
        "colab": {
          "base_uri": "https://localhost:8080/"
        },
        "id": "qM7HfLUtLPI1",
        "outputId": "e5f4bf80-b5e8-4ba8-b58e-ee3016c98509"
      },
      "outputs": [
        {
          "output_type": "stream",
          "name": "stdout",
          "text": [
            "[1] 30\n",
            "[1] 33\n",
            "[1] \"Price before tax: £ 100\"\n",
            "[1] \"Price with tax: £ 112\"\n",
            "[1] 100.8\n",
            "     Item Price Price_with_tax Price_without_tax Tax_Contribution\n",
            "1   Books    10         £11.00            £10.00            £1.00\n",
            "2 Pencils    20         £22.00            £20.00            £2.00\n",
            "3    Pens    30         £33.00            £30.00            £3.00\n"
          ]
        }
      ],
      "source": [
        "# Function to calculate the total price before tax\n",
        "calculate_price_before_tax <- function(quantity, price_per_item) {\n",
        "    total <- quantity * price_per_item\n",
        "    return(total)\n",
        "}\n",
        "\n",
        "# Test the function\n",
        "print(calculate_price_before_tax(3, 10))  # Output: 30\n",
        "\n",
        "# Function to calculate the total price with tax\n",
        "calculate_price_with_tax <- function(price_before_tax, tax_rate) {\n",
        "    total_with_tax <- price_before_tax * (1 + tax_rate)\n",
        "    return(total_with_tax)\n",
        "}\n",
        "\n",
        "# Test the function\n",
        "print(calculate_price_with_tax(30, 0.1))  # Output: 33 (Tax is 10%)\n",
        "\n",
        "\n",
        "# Define item details\n",
        "quantity <- 5\n",
        "price_per_item <- 20\n",
        "tax_rate <- 0.12\n",
        "\n",
        "# Calculate the total price before tax\n",
        "price_before_tax <- calculate_price_before_tax(quantity, price_per_item)\n",
        "print(paste(\"Price before tax: £\", price_before_tax))  # Output: £100\n",
        "\n",
        "# Calculate the total price with tax\n",
        "price_with_tax <- calculate_price_with_tax(price_before_tax, tax_rate)\n",
        "print(paste(\"Price with tax: £\", price_with_tax))  # Output: £112\n",
        "\n",
        "\n",
        "# Modified function with default tax rate\n",
        "calculate_price_with_tax <- function(price_before_tax, tax_rate = 0.15) {\n",
        "    total_with_tax <- price_before_tax * (1 + tax_rate)\n",
        "    return(total_with_tax)\n",
        "}\n",
        "\n",
        "# Modified function with default tax rate\n",
        "calculate_price_with_tax <- function(price_before_tax, tax_rate = 0.15) {\n",
        "    total_with_tax <- price_before_tax * (1 + tax_rate)\n",
        "    return(total_with_tax)\n",
        "}\n",
        "\n",
        "# Function to apply a discount to the total price\n",
        "apply_discount <- function(total_price, discount_rate) {\n",
        "    discounted_price <- total_price * (1 - discount_rate)\n",
        "    return(discounted_price)\n",
        "}\n",
        "\n",
        "# Example: Apply 10% discount to a total price of £112\n",
        "total_price_with_tax <- 112\n",
        "discount_rate <- 0.10\n",
        "print(apply_discount(total_price_with_tax, discount_rate))  # Output: £100.8\n",
        "# Sample data for items and their prices\n",
        "\n",
        "items_data <- data.frame(Item = c(\"Books\", \"Pencils\", \"Pens\"), Price = c(10, 20, 30))\n",
        "\n",
        "# Calculate prices with and without a sample tax rate (e.g., 10%)\n",
        "\n",
        "tax_rate <- 0.10\n",
        "\n",
        "items_data$Price_with_tax <- items_data$Price * (1 + tax_rate)\n",
        "\n",
        "items_data$Price_without_tax <- items_data$Price\n",
        "\n",
        "# Calculate the tax contribution as the difference between price with tax and without tax\n",
        "\n",
        "items_data$Tax_Contribution <- items_data$Price_with_tax - items_data$Price_without_tax\n",
        "\n",
        "# Add the \"£\" symbol to the prices and tax contribution\n",
        "\n",
        "items_data$Price_with_tax <- paste0(\"£\", format(items_data$Price_with_tax, nsmall = 2))\n",
        "\n",
        "items_data$Price_without_tax <- paste0(\"£\", format(items_data$Price_without_tax, nsmall = 2))\n",
        "\n",
        "items_data$Tax_Contribution <- paste0(\"£\", format(items_data$Tax_Contribution, nsmall = 2))\n",
        "\n",
        "# Display the DataFrame\n",
        "\n",
        "print(items_data)\n",
        "\n",
        "\n"
      ]
    }
  ]
}
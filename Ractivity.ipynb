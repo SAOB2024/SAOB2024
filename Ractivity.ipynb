{
  "nbformat": 4,
  "nbformat_minor": 0,
  "metadata": {
    "colab": {
      "provenance": [],
      "authorship_tag": "ABX9TyN+3fX0HCOgSdIhys2ctxsc",
      "include_colab_link": true
    },
    "kernelspec": {
      "name": "ir",
      "display_name": "R"
    },
    "language_info": {
      "name": "R"
    }
  },
  "cells": [
    {
      "cell_type": "markdown",
      "metadata": {
        "id": "view-in-github",
        "colab_type": "text"
      },
      "source": [
        "<a href=\"https://colab.research.google.com/github/SAOB2024/SAOB2024/blob/main/Ractivity.ipynb\" target=\"_parent\"><img src=\"https://colab.research.google.com/assets/colab-badge.svg\" alt=\"Open In Colab\"/></a>"
      ]
    },
    {
      "cell_type": "code",
      "execution_count": 7,
      "metadata": {
        "colab": {
          "base_uri": "https://localhost:8080/",
          "height": 86
        },
        "id": "Up3LsJzmWHgX",
        "outputId": "f1b65b41-e2d7-45f0-e8f1-0c9dc387ad37"
      },
      "outputs": [
        {
          "output_type": "display_data",
          "data": {
            "text/html": [
              "<style>\n",
              ".list-inline {list-style: none; margin:0; padding: 0}\n",
              ".list-inline>li {display: inline-block}\n",
              ".list-inline>li:not(:last-child)::after {content: \"\\00b7\"; padding: 0 .5ex}\n",
              "</style>\n",
              "<ol class=list-inline><li>2</li><li>4</li><li>6</li><li>8</li><li>10</li><li>12.14</li><li>16</li><li>18</li><li>20</li></ol>\n"
            ],
            "text/markdown": "1. 2\n2. 4\n3. 6\n4. 8\n5. 10\n6. 12.14\n7. 16\n8. 18\n9. 20\n\n\n",
            "text/latex": "\\begin{enumerate*}\n\\item 2\n\\item 4\n\\item 6\n\\item 8\n\\item 10\n\\item 12.14\n\\item 16\n\\item 18\n\\item 20\n\\end{enumerate*}\n",
            "text/plain": [
              "[1]  2.00  4.00  6.00  8.00 10.00 12.14 16.00 18.00 20.00"
            ]
          },
          "metadata": {}
        },
        {
          "output_type": "display_data",
          "data": {
            "text/html": [
              "2"
            ],
            "text/markdown": "2",
            "text/latex": "2",
            "text/plain": [
              "[1] 2"
            ]
          },
          "metadata": {}
        },
        {
          "output_type": "display_data",
          "data": {
            "text/html": [
              "4"
            ],
            "text/markdown": "4",
            "text/latex": "4",
            "text/plain": [
              "[1] 4"
            ]
          },
          "metadata": {}
        },
        {
          "output_type": "display_data",
          "data": {
            "text/html": [
              "6"
            ],
            "text/markdown": "6",
            "text/latex": "6",
            "text/plain": [
              "[1] 6"
            ]
          },
          "metadata": {}
        }
      ],
      "source": [
        "#numeric vector of even numbers\n",
        "even_numbers<-c(2,4,6,8,10,12.14,16,18,20)\n",
        "even_numbers\n",
        "even_numbers[1]\n",
        "even_numbers[2]\n",
        "even_numbers[3]"
      ]
    },
    {
      "cell_type": "code",
      "source": [
        "#Character vector of Fruits types\n",
        "fruits_types<-c(\"Apple\",\"Banana\",\"Cherry\",\"Date\",\"Elderberry\")\n",
        "fruits_types\n",
        "fruits_types[1]\n",
        "fruits_types[5]\n",
        "\n"
      ],
      "metadata": {
        "colab": {
          "base_uri": "https://localhost:8080/",
          "height": 69
        },
        "id": "xFpxiHL-hBQI",
        "outputId": "c78b46b3-53e5-4409-dcc4-a00416dd89e3"
      },
      "execution_count": 20,
      "outputs": [
        {
          "output_type": "display_data",
          "data": {
            "text/html": [
              "<style>\n",
              ".list-inline {list-style: none; margin:0; padding: 0}\n",
              ".list-inline>li {display: inline-block}\n",
              ".list-inline>li:not(:last-child)::after {content: \"\\00b7\"; padding: 0 .5ex}\n",
              "</style>\n",
              "<ol class=list-inline><li>'Apple'</li><li>'Banana'</li><li>'Cherry'</li><li>'Date'</li><li>'Elderberry'</li></ol>\n"
            ],
            "text/markdown": "1. 'Apple'\n2. 'Banana'\n3. 'Cherry'\n4. 'Date'\n5. 'Elderberry'\n\n\n",
            "text/latex": "\\begin{enumerate*}\n\\item 'Apple'\n\\item 'Banana'\n\\item 'Cherry'\n\\item 'Date'\n\\item 'Elderberry'\n\\end{enumerate*}\n",
            "text/plain": [
              "[1] \"Apple\"      \"Banana\"     \"Cherry\"     \"Date\"       \"Elderberry\""
            ]
          },
          "metadata": {}
        },
        {
          "output_type": "display_data",
          "data": {
            "text/html": [
              "'Apple'"
            ],
            "text/markdown": "'Apple'",
            "text/latex": "'Apple'",
            "text/plain": [
              "[1] \"Apple\""
            ]
          },
          "metadata": {}
        },
        {
          "output_type": "display_data",
          "data": {
            "text/html": [
              "'Elderberry'"
            ],
            "text/markdown": "'Elderberry'",
            "text/latex": "'Elderberry'",
            "text/plain": [
              "[1] \"Elderberry\""
            ]
          },
          "metadata": {}
        }
      ]
    },
    {
      "cell_type": "code",
      "source": [
        "my_list<-list (c(2,4,6),c(\"Apple\",\"Orange\",\"Pear\"),c(TRUE,FALSE,TRUE))\n",
        "my_list"
      ],
      "metadata": {
        "colab": {
          "base_uri": "https://localhost:8080/",
          "height": 97
        },
        "id": "RAdRsXRyoI7n",
        "outputId": "ff3e0f68-aff5-4fa1-8ccb-24cdcee6e688"
      },
      "execution_count": 30,
      "outputs": [
        {
          "output_type": "display_data",
          "data": {
            "text/html": [
              "<ol>\n",
              "\t<li><style>\n",
              ".list-inline {list-style: none; margin:0; padding: 0}\n",
              ".list-inline>li {display: inline-block}\n",
              ".list-inline>li:not(:last-child)::after {content: \"\\00b7\"; padding: 0 .5ex}\n",
              "</style>\n",
              "<ol class=list-inline><li>2</li><li>4</li><li>6</li></ol>\n",
              "</li>\n",
              "\t<li><style>\n",
              ".list-inline {list-style: none; margin:0; padding: 0}\n",
              ".list-inline>li {display: inline-block}\n",
              ".list-inline>li:not(:last-child)::after {content: \"\\00b7\"; padding: 0 .5ex}\n",
              "</style>\n",
              "<ol class=list-inline><li>'Apple'</li><li>'Orange'</li><li>'Pear'</li></ol>\n",
              "</li>\n",
              "\t<li><style>\n",
              ".list-inline {list-style: none; margin:0; padding: 0}\n",
              ".list-inline>li {display: inline-block}\n",
              ".list-inline>li:not(:last-child)::after {content: \"\\00b7\"; padding: 0 .5ex}\n",
              "</style>\n",
              "<ol class=list-inline><li>TRUE</li><li>FALSE</li><li>TRUE</li></ol>\n",
              "</li>\n",
              "</ol>\n"
            ],
            "text/markdown": "1. 1. 2\n2. 4\n3. 6\n\n\n\n2. 1. 'Apple'\n2. 'Orange'\n3. 'Pear'\n\n\n\n3. 1. TRUE\n2. FALSE\n3. TRUE\n\n\n\n\n\n",
            "text/latex": "\\begin{enumerate}\n\\item \\begin{enumerate*}\n\\item 2\n\\item 4\n\\item 6\n\\end{enumerate*}\n\n\\item \\begin{enumerate*}\n\\item 'Apple'\n\\item 'Orange'\n\\item 'Pear'\n\\end{enumerate*}\n\n\\item \\begin{enumerate*}\n\\item TRUE\n\\item FALSE\n\\item TRUE\n\\end{enumerate*}\n\n\\end{enumerate}\n",
            "text/plain": [
              "[[1]]\n",
              "[1] 2 4 6\n",
              "\n",
              "[[2]]\n",
              "[1] \"Apple\"  \"Orange\" \"Pear\"  \n",
              "\n",
              "[[3]]\n",
              "[1]  TRUE FALSE  TRUE\n"
            ]
          },
          "metadata": {}
        }
      ]
    },
    {
      "cell_type": "code",
      "source": [
        "#Creating and Modifying Matrices\n",
        "even_matrix<-matrix(even_numbers,nrow = 2,ncol = 6)\n",
        "even_matrix"
      ],
      "metadata": {
        "colab": {
          "base_uri": "https://localhost:8080/",
          "height": 114
        },
        "id": "_6jD3UtGp3Tu",
        "outputId": "2043d6b3-c220-45f6-b3ba-b4d47ea0c569"
      },
      "execution_count": 34,
      "outputs": [
        {
          "output_type": "display_data",
          "data": {
            "text/html": [
              "<table class=\"dataframe\">\n",
              "<caption>A matrix: 2 × 6 of type dbl</caption>\n",
              "<tbody>\n",
              "\t<tr><td>2</td><td>6</td><td>4</td><td>2</td><td>6</td><td>4</td></tr>\n",
              "\t<tr><td>4</td><td>2</td><td>6</td><td>4</td><td>2</td><td>6</td></tr>\n",
              "</tbody>\n",
              "</table>\n"
            ],
            "text/markdown": "\nA matrix: 2 × 6 of type dbl\n\n| 2 | 6 | 4 | 2 | 6 | 4 |\n| 4 | 2 | 6 | 4 | 2 | 6 |\n\n",
            "text/latex": "A matrix: 2 × 6 of type dbl\n\\begin{tabular}{llllll}\n\t 2 & 6 & 4 & 2 & 6 & 4\\\\\n\t 4 & 2 & 6 & 4 & 2 & 6\\\\\n\\end{tabular}\n",
            "text/plain": [
              "     [,1] [,2] [,3] [,4] [,5] [,6]\n",
              "[1,] 2    6    4    2    6    4   \n",
              "[2,] 4    2    6    4    2    6   "
            ]
          },
          "metadata": {}
        }
      ]
    },
    {
      "cell_type": "code",
      "source": [
        "#Introduction to Data Frames\n",
        "#Creating a data frame\n",
        "\n",
        "fruit_data<- data.frame(fruits_types=c(\"Orange\",\"Banana\",\"Pear\"),quantity=c(4,8,12))\n",
        "fruit_data\n",
        "#Accessing and Modifying the data\n",
        "fruit_data[2,]\n",
        "fruit_data[1]\n",
        "fruit_data[1,]"
      ],
      "metadata": {
        "colab": {
          "base_uri": "https://localhost:8080/",
          "height": 610
        },
        "id": "gnLvQLphr5tA",
        "outputId": "fbb39b12-7fa5-4f1f-b1f1-dc282ffe2b3c"
      },
      "execution_count": 41,
      "outputs": [
        {
          "output_type": "display_data",
          "data": {
            "text/html": [
              "<table class=\"dataframe\">\n",
              "<caption>A data.frame: 3 × 2</caption>\n",
              "<thead>\n",
              "\t<tr><th scope=col>fruits_types</th><th scope=col>quantity</th></tr>\n",
              "\t<tr><th scope=col>&lt;chr&gt;</th><th scope=col>&lt;dbl&gt;</th></tr>\n",
              "</thead>\n",
              "<tbody>\n",
              "\t<tr><td>Orange</td><td> 4</td></tr>\n",
              "\t<tr><td>Banana</td><td> 8</td></tr>\n",
              "\t<tr><td>Pear  </td><td>12</td></tr>\n",
              "</tbody>\n",
              "</table>\n"
            ],
            "text/markdown": "\nA data.frame: 3 × 2\n\n| fruits_types &lt;chr&gt; | quantity &lt;dbl&gt; |\n|---|---|\n| Orange |  4 |\n| Banana |  8 |\n| Pear   | 12 |\n\n",
            "text/latex": "A data.frame: 3 × 2\n\\begin{tabular}{ll}\n fruits\\_types & quantity\\\\\n <chr> & <dbl>\\\\\n\\hline\n\t Orange &  4\\\\\n\t Banana &  8\\\\\n\t Pear   & 12\\\\\n\\end{tabular}\n",
            "text/plain": [
              "  fruits_types quantity\n",
              "1 Orange        4      \n",
              "2 Banana        8      \n",
              "3 Pear         12      "
            ]
          },
          "metadata": {}
        },
        {
          "output_type": "display_data",
          "data": {
            "text/html": [
              "<table class=\"dataframe\">\n",
              "<caption>A data.frame: 1 × 2</caption>\n",
              "<thead>\n",
              "\t<tr><th></th><th scope=col>fruits_types</th><th scope=col>quantity</th></tr>\n",
              "\t<tr><th></th><th scope=col>&lt;chr&gt;</th><th scope=col>&lt;dbl&gt;</th></tr>\n",
              "</thead>\n",
              "<tbody>\n",
              "\t<tr><th scope=row>2</th><td>Banana</td><td>8</td></tr>\n",
              "</tbody>\n",
              "</table>\n"
            ],
            "text/markdown": "\nA data.frame: 1 × 2\n\n| <!--/--> | fruits_types &lt;chr&gt; | quantity &lt;dbl&gt; |\n|---|---|---|\n| 2 | Banana | 8 |\n\n",
            "text/latex": "A data.frame: 1 × 2\n\\begin{tabular}{r|ll}\n  & fruits\\_types & quantity\\\\\n  & <chr> & <dbl>\\\\\n\\hline\n\t2 & Banana & 8\\\\\n\\end{tabular}\n",
            "text/plain": [
              "  fruits_types quantity\n",
              "2 Banana       8       "
            ]
          },
          "metadata": {}
        },
        {
          "output_type": "display_data",
          "data": {
            "text/html": [
              "<table class=\"dataframe\">\n",
              "<caption>A data.frame: 3 × 1</caption>\n",
              "<thead>\n",
              "\t<tr><th scope=col>fruits_types</th></tr>\n",
              "\t<tr><th scope=col>&lt;chr&gt;</th></tr>\n",
              "</thead>\n",
              "<tbody>\n",
              "\t<tr><td>Orange</td></tr>\n",
              "\t<tr><td>Banana</td></tr>\n",
              "\t<tr><td>Pear  </td></tr>\n",
              "</tbody>\n",
              "</table>\n"
            ],
            "text/markdown": "\nA data.frame: 3 × 1\n\n| fruits_types &lt;chr&gt; |\n|---|\n| Orange |\n| Banana |\n| Pear   |\n\n",
            "text/latex": "A data.frame: 3 × 1\n\\begin{tabular}{l}\n fruits\\_types\\\\\n <chr>\\\\\n\\hline\n\t Orange\\\\\n\t Banana\\\\\n\t Pear  \\\\\n\\end{tabular}\n",
            "text/plain": [
              "  fruits_types\n",
              "1 Orange      \n",
              "2 Banana      \n",
              "3 Pear        "
            ]
          },
          "metadata": {}
        },
        {
          "output_type": "display_data",
          "data": {
            "text/html": [
              "<table class=\"dataframe\">\n",
              "<caption>A data.frame: 1 × 2</caption>\n",
              "<thead>\n",
              "\t<tr><th></th><th scope=col>fruits_types</th><th scope=col>quantity</th></tr>\n",
              "\t<tr><th></th><th scope=col>&lt;chr&gt;</th><th scope=col>&lt;dbl&gt;</th></tr>\n",
              "</thead>\n",
              "<tbody>\n",
              "\t<tr><th scope=row>1</th><td>Orange</td><td>4</td></tr>\n",
              "</tbody>\n",
              "</table>\n"
            ],
            "text/markdown": "\nA data.frame: 1 × 2\n\n| <!--/--> | fruits_types &lt;chr&gt; | quantity &lt;dbl&gt; |\n|---|---|---|\n| 1 | Orange | 4 |\n\n",
            "text/latex": "A data.frame: 1 × 2\n\\begin{tabular}{r|ll}\n  & fruits\\_types & quantity\\\\\n  & <chr> & <dbl>\\\\\n\\hline\n\t1 & Orange & 4\\\\\n\\end{tabular}\n",
            "text/plain": [
              "  fruits_types quantity\n",
              "1 Orange       4       "
            ]
          },
          "metadata": {}
        }
      ]
    }
  ]
}
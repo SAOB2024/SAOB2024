{
  "nbformat": 4,
  "nbformat_minor": 0,
  "metadata": {
    "colab": {
      "provenance": [],
      "authorship_tag": "ABX9TyOD5urxVvXJaOJlb60tDq0y",
      "include_colab_link": true
    },
    "kernelspec": {
      "name": "python3",
      "display_name": "Python 3"
    },
    "language_info": {
      "name": "python"
    }
  },
  "cells": [
    {
      "cell_type": "markdown",
      "metadata": {
        "id": "view-in-github",
        "colab_type": "text"
      },
      "source": [
        "<a href=\"https://colab.research.google.com/github/SAOB2024/SAOB2024/blob/main/Business_activity.ipynb\" target=\"_parent\"><img src=\"https://colab.research.google.com/assets/colab-badge.svg\" alt=\"Open In Colab\"/></a>"
      ]
    },
    {
      "cell_type": "code",
      "execution_count": null,
      "metadata": {
        "colab": {
          "base_uri": "https://localhost:8080/"
        },
        "id": "yoUPjTLsHzXu",
        "outputId": "c4c5b942-df51-43c6-842c-5208cf1cc8a3"
      },
      "outputs": [
        {
          "output_type": "stream",
          "name": "stdout",
          "text": [
            "hello world \n",
            " new life\n"
          ]
        }
      ],
      "source": [
        "print('hello world \\n new life')"
      ]
    },
    {
      "cell_type": "code",
      "source": [
        "print('user_name \\n  Lola')"
      ],
      "metadata": {
        "colab": {
          "base_uri": "https://localhost:8080/"
        },
        "id": "VrOWhd5MZcA-",
        "outputId": "37d04e86-722a-4009-d160-8fd5fe7b00d6"
      },
      "execution_count": null,
      "outputs": [
        {
          "output_type": "stream",
          "name": "stdout",
          "text": [
            "user_name \n",
            "  Lola\n"
          ]
        }
      ]
    },
    {
      "cell_type": "code",
      "source": [
        "print(4.5)"
      ],
      "metadata": {
        "colab": {
          "base_uri": "https://localhost:8080/"
        },
        "id": "GquZZz9-am34",
        "outputId": "626e8c4f-9353-4bd3-9e99-bc0cf2721f54"
      },
      "execution_count": null,
      "outputs": [
        {
          "output_type": "stream",
          "name": "stdout",
          "text": [
            "4.5\n"
          ]
        }
      ]
    },
    {
      "cell_type": "code",
      "source": [
        "print(56/6)"
      ],
      "metadata": {
        "colab": {
          "base_uri": "https://localhost:8080/"
        },
        "id": "pDbILKgKbeR3",
        "outputId": "5f00de03-93dc-4613-dfbb-9a7c94d0099b"
      },
      "execution_count": null,
      "outputs": [
        {
          "output_type": "stream",
          "name": "stdout",
          "text": [
            "9.333333333333334\n"
          ]
        }
      ]
    },
    {
      "cell_type": "code",
      "source": [
        "print('first_name Shakirat \\n last_name Badmos')"
      ],
      "metadata": {
        "colab": {
          "base_uri": "https://localhost:8080/"
        },
        "id": "yHMaJRITbtua",
        "outputId": "181d3a32-cb01-4776-9e70-a44f5c0562f7"
      },
      "execution_count": null,
      "outputs": [
        {
          "output_type": "stream",
          "name": "stdout",
          "text": [
            "first_name Shakirat \n",
            " last_name Badmos\n"
          ]
        }
      ]
    },
    {
      "cell_type": "code",
      "source": [
        "my_list=[1,2,3,\"orange\",[4.5]]\n",
        "print(my_list)"
      ],
      "metadata": {
        "id": "jA-nhbALkvJ5",
        "colab": {
          "base_uri": "https://localhost:8080/"
        },
        "outputId": "a3d2c3e8-f9f4-445b-960b-748277188c95"
      },
      "execution_count": null,
      "outputs": [
        {
          "output_type": "stream",
          "name": "stdout",
          "text": [
            "[1, 2, 3, 'orange', [4.5]]\n"
          ]
        }
      ]
    },
    {
      "cell_type": "code",
      "source": [],
      "metadata": {
        "id": "zeQgf4-fqWgV"
      },
      "execution_count": null,
      "outputs": []
    },
    {
      "cell_type": "code",
      "source": [
        "# input function demo\n",
        "name=input(\"Please enter your name =\")\n",
        "print(\"Your name is =\",\"name\")"
      ],
      "metadata": {
        "colab": {
          "base_uri": "https://localhost:8080/"
        },
        "id": "4x8oXlPAn-W_",
        "outputId": "4d403e30-f236-4fd7-d2b3-e2e488a0ef4b"
      },
      "execution_count": null,
      "outputs": [
        {
          "output_type": "stream",
          "name": "stdout",
          "text": [
            "Please enter your name =shakirat\n",
            "Your name is = name\n"
          ]
        }
      ]
    },
    {
      "cell_type": "code",
      "source": [
        "#Task 1"
      ],
      "metadata": {
        "id": "w0Z_3-9g8qb8"
      },
      "execution_count": null,
      "outputs": []
    }
  ]
}
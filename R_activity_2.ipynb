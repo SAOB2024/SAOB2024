{
  "nbformat": 4,
  "nbformat_minor": 0,
  "metadata": {
    "colab": {
      "provenance": [],
      "authorship_tag": "ABX9TyMXtOkZGnCXR0TTGQYkKUTk",
      "include_colab_link": true
    },
    "kernelspec": {
      "name": "ir",
      "display_name": "R"
    },
    "language_info": {
      "name": "R"
    }
  },
  "cells": [
    {
      "cell_type": "markdown",
      "metadata": {
        "id": "view-in-github",
        "colab_type": "text"
      },
      "source": [
        "<a href=\"https://colab.research.google.com/github/SAOB2024/SAOB2024/blob/main/R_activity_2.ipynb\" target=\"_parent\"><img src=\"https://colab.research.google.com/assets/colab-badge.svg\" alt=\"Open In Colab\"/></a>"
      ]
    },
    {
      "cell_type": "code",
      "execution_count": 3,
      "metadata": {
        "colab": {
          "base_uri": "https://localhost:8080/"
        },
        "id": "UK1WGtrw-DWl",
        "outputId": "08090dc8-23b3-4a4a-c863-7b110150cc7b"
      },
      "outputs": [
        {
          "output_type": "stream",
          "name": "stdout",
          "text": [
            "What is your name?Shakirat\n",
            "[1] \"Hello Shakirat !\"\n"
          ]
        }
      ],
      "source": [
        "#Inputting Simple Data\n",
        "#prompt for use's name\n",
        "user_name<-readline(prompt=\"What is your name?\")\n",
        "#Print a greeting message\n",
        "print(paste(\"Hello\",user_name,\"!\"))\n"
      ]
    },
    {
      "cell_type": "code",
      "source": [
        "#Inputting a numeric Data\n",
        "#Prompt for input\n",
        "numbers_input<-readline(prompt = \"Enter several numbers separated by commas(e.g,1,2,3): \")\n",
        "#convert the input string to a numeric vector\n",
        "numbers_vector<-as.numeric(unlist(strsplit(numbers_input,\",\")))\n",
        "#Print the numeric vector\n",
        "print(numbers_vector)"
      ],
      "metadata": {
        "colab": {
          "base_uri": "https://localhost:8080/"
        },
        "id": "07gxb7OK_rVt",
        "outputId": "5f633d2e-151f-4960-918b-244d3ba5b7c1"
      },
      "execution_count": 6,
      "outputs": [
        {
          "output_type": "stream",
          "name": "stdout",
          "text": [
            "Enter several numbers separated by commas(e.g,1,2,3): 1,3,9\n",
            "[1] 1 3 9\n"
          ]
        }
      ]
    },
    {
      "cell_type": "code",
      "source": [
        "#Creating and Displaying  a Data Frame\n",
        "#Prompt for names\n",
        "names_input<-readline(prompt = \"Enter names seperated by commas\")\n",
        "#prompt for ages\n",
        "ages_input<-readline(prompt = \"Enter ages separated by commas,corresponding to each name:\")\n",
        "#convert inputs to approipriate data structures\n",
        "names_vector<-unlist(strsplit(names_input, \",\"))\n",
        "ages_vector<-as.numeric(unlist(strsplit(ages_input,\",\")))\n",
        "#create and print the data frame\n",
        "people_df<-data.frame(Name=names_vector,Age=ages_vector)\n",
        "print(people_df)\n"
      ],
      "metadata": {
        "colab": {
          "base_uri": "https://localhost:8080/"
        },
        "id": "VNUoBXF5Dbii",
        "outputId": "5ca9ea81-e743-41fa-dff3-f1cffd19c254"
      },
      "execution_count": 17,
      "outputs": [
        {
          "output_type": "stream",
          "name": "stdout",
          "text": [
            "Enter names seperated by commasJade, Lola, Josh\n",
            "Enter ages separated by commas,corresponding to each name:20,50,34\n",
            "   Name Age\n",
            "1  Jade  20\n",
            "2  Lola  50\n",
            "3  Josh  34\n"
          ]
        }
      ]
    }
  ]
}
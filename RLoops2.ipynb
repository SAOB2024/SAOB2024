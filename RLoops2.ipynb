{
  "nbformat": 4,
  "nbformat_minor": 0,
  "metadata": {
    "colab": {
      "provenance": [],
      "authorship_tag": "ABX9TyOlJEk5F22q5cdVFJYOtftm",
      "include_colab_link": true
    },
    "kernelspec": {
      "name": "ir",
      "display_name": "R"
    },
    "language_info": {
      "name": "R"
    }
  },
  "cells": [
    {
      "cell_type": "markdown",
      "metadata": {
        "id": "view-in-github",
        "colab_type": "text"
      },
      "source": [
        "<a href=\"https://colab.research.google.com/github/SAOB2024/SAOB2024/blob/main/RLoops2.ipynb\" target=\"_parent\"><img src=\"https://colab.research.google.com/assets/colab-badge.svg\" alt=\"Open In Colab\"/></a>"
      ]
    },
    {
      "cell_type": "code",
      "execution_count": 2,
      "metadata": {
        "colab": {
          "base_uri": "https://localhost:8080/"
        },
        "id": "cFSdAF1glY4z",
        "outputId": "33f3941a-18a8-4bbc-af7d-5662ac6a1352"
      },
      "outputs": [
        {
          "output_type": "stream",
          "name": "stdout",
          "text": [
            "[1] 1\n",
            "[1] 2\n",
            "[1] 3\n",
            "[1] 4\n",
            "[1] 5\n",
            "[1] 1\n",
            "[1] 2\n",
            "[1] 3\n",
            "[1] 4\n",
            "[1] 5\n"
          ]
        }
      ],
      "source": [
        "#While and For Loops\n",
        "i<-1\n",
        "while(i<6){\n",
        "  print(i)\n",
        "  i<-i+1\n",
        "}\n",
        "\n",
        "for(i in 1:5){\n",
        "  print(i)\n",
        "}"
      ]
    },
    {
      "source": [
        "# Define the range\n",
        "start <- 1\n",
        "end <- 20\n",
        "\n",
        "# Initialize variables\n",
        "sum <- 0\n",
        "counter <- start\n",
        "\n",
        "# Calculate the sum of even numbers using a while loop\n",
        "while (counter <= end) {\n",
        "  if (counter %% 2 == 0) {\n",
        "    sum <- sum + counter\n",
        "  }\n",
        "  counter <- counter + 1\n",
        "}\n",
        "\n",
        "# Print the sum\n",
        "print(sum)"
      ],
      "cell_type": "code",
      "metadata": {
        "colab": {
          "base_uri": "https://localhost:8080/"
        },
        "id": "wETsFIynolCo",
        "outputId": "8ac5f7da-9600-4466-c95d-2d918c04ce90"
      },
      "execution_count": 3,
      "outputs": [
        {
          "output_type": "stream",
          "name": "stdout",
          "text": [
            "[1] 110\n"
          ]
        }
      ]
    },
    {
      "source": [
        "# Define the range\n",
        "start <- 1\n",
        "end <- 20\n",
        "\n",
        "# Initialize variables\n",
        "sum <- 0\n",
        "counter <- start\n",
        "\n",
        "# Calculate the sum of even numbers using a while loop\n",
        "while (counter <= end) {\n",
        "  if (counter %% 2 == 0) {\n",
        "    sum <- sum + counter\n",
        "  }\n",
        "  counter <- counter + 1\n",
        "}\n",
        "\n",
        "# Print the sum\n",
        "print(paste(\"The sum of even numbers between\", start, \"and\", end, \"is:\", sum))"
      ],
      "cell_type": "code",
      "metadata": {
        "colab": {
          "base_uri": "https://localhost:8080/"
        },
        "id": "7rcLdpAEp5cN",
        "outputId": "eb4b9b0a-cde4-44b2-8076-a374992b9862"
      },
      "execution_count": 8,
      "outputs": [
        {
          "output_type": "stream",
          "name": "stdout",
          "text": [
            "[1] \"The sum of even numbers between 1 and 20 is: 110\"\n"
          ]
        }
      ]
    },
    {
      "source": [
        "# Define the range\n",
        "start <- 1\n",
        "end <- 20\n",
        "\n",
        "# Initialize variables\n",
        "sum <- 0\n",
        "counter <- start\n",
        "\n",
        "# Calculate the sum of odd numbers using a while loop\n",
        "while (counter <= end) {\n",
        "  if (counter %% 2 != 0) {\n",
        "    sum <- sum + counter\n",
        "  }\n",
        "  counter <- counter + 1\n",
        "}\n",
        "\n",
        "# Print the sum\n",
        "print(paste(\"The sum of odd numbers between\", start, \"and\", end, \"is:\", sum))"
      ],
      "cell_type": "code",
      "metadata": {
        "colab": {
          "base_uri": "https://localhost:8080/"
        },
        "id": "V2uHRXTsqqcr",
        "outputId": "3e5b345b-99eb-4a80-b24c-72c5e79eda35"
      },
      "execution_count": 6,
      "outputs": [
        {
          "output_type": "stream",
          "name": "stdout",
          "text": [
            "[1] \"The sum of odd numbers between 1 and 20 is: 100\"\n"
          ]
        }
      ]
    }
  ]
}
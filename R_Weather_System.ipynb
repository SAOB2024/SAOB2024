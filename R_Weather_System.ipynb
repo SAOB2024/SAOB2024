{
  "nbformat": 4,
  "nbformat_minor": 0,
  "metadata": {
    "colab": {
      "provenance": [],
      "authorship_tag": "ABX9TyPdby/t2l7lvELjLbozpqtA",
      "include_colab_link": true
    },
    "kernelspec": {
      "name": "ir",
      "display_name": "R"
    },
    "language_info": {
      "name": "R"
    }
  },
  "cells": [
    {
      "cell_type": "markdown",
      "metadata": {
        "id": "view-in-github",
        "colab_type": "text"
      },
      "source": [
        "<a href=\"https://colab.research.google.com/github/SAOB2024/SAOB2024/blob/main/R_Weather_System.ipynb\" target=\"_parent\"><img src=\"https://colab.research.google.com/assets/colab-badge.svg\" alt=\"Open In Colab\"/></a>"
      ]
    },
    {
      "cell_type": "code",
      "execution_count": 1,
      "metadata": {
        "colab": {
          "base_uri": "https://localhost:8080/"
        },
        "id": "qdrBPI9DUfS5",
        "outputId": "49afdd19-8790-4040-a1b9-bfa587008f0e"
      },
      "outputs": [
        {
          "output_type": "stream",
          "name": "stdout",
          "text": [
            "Please enter the current temperature(in Celcius):50\n",
            "[1] \"It's really hot! Try to stay indoors and stay hydrated.\"\n"
          ]
        }
      ],
      "source": [
        "#step 1 setting up the environment\n",
        "#Ask the user to enter the current temp.\n",
        "temperature_input<-readline(prompt = \"Please enter the current temperature(in Celcius):\")\n",
        "temperature<-as.numeric(temperature_input)\n",
        "#convert the input to numeric\n",
        "#provide activity suggestions based on temperature\n",
        "if(temperature>30){\n",
        "    print(\"It's really hot! Try to stay indoors and stay hydrated.\")\n",
        "}else if (temperature>20){\n",
        "    print(\"It's a nice day for a walk or a picnic.\")\n",
        "}else if(temperature>10){\n",
        "    print(\"It's a bit chilly,consider wearing a jacket if you are going out.\")\n",
        "}else if(temperature>0){\n",
        "    print(\"It's cold! Keep warm and consider indoor activities.\")\n",
        "}else{\n",
        "    print(\"It's freezing! Best to stay indoors and keep warm\")\n",
        "}"
      ]
    },
    {
      "source": [
        "# Ask the user to enter the current temperature, wind speed, and rain status\n",
        "temperature_input <- readline(prompt = \"Please enter the current temperature (in Celsius): \")\n",
        "temperature <- as.numeric(temperature_input)\n",
        "\n",
        "wind_speed_input <- readline(prompt = \"Please enter the current wind speed (in km/h): \")\n",
        "wind_speed <- as.numeric(wind_speed_input)\n",
        "\n",
        "rain_input <- readline(prompt = \"Is it currently raining? (yes/no): \")\n",
        "\n",
        "# Provide activity suggestions based on temperature, wind speed, and rain status\n",
        "if (temperature > 30) {\n",
        "  print(\"It's really hot! Try to stay indoors and stay hydrated.\")\n",
        "} else if (temperature > 20) {\n",
        "  if (wind_speed < 20 && rain_input == \"no\") {\n",
        "    print(\"It's a nice day for a walk or a picnic.\")\n",
        "  } else {\n",
        "    print(\"It's a bit windy or rainy. Consider a light jacket or staying indoors.\")\n",
        "  }\n",
        "} else if (temperature > 10) {\n",
        "  if (wind_speed < 30 && rain_input == \"no\") {\n",
        "    print(\"It's a bit chilly. Consider wearing a jacket if you are going out.\")\n",
        "  } else {\n",
        "    print(\"It's chilly and windy or rainy. Consider a warmer jacket or staying indoors.\")\n",
        "  }\n",
        "} else if (temperature > 0) {\n",
        "  if (wind_speed < 40 && rain_input == \"no\") {\n",
        "    print(\"It's cold! Keep warm and consider indoor activities.\")\n",
        "  } else {\n",
        "    print(\"It's cold and windy or rainy. Bundle up if you go outside!\")\n",
        "  }\n",
        "} else {\n",
        "  print(\"It's freezing! Best to stay indoors and keep warm.\")\n",
        "}"
      ],
      "cell_type": "code",
      "metadata": {
        "colab": {
          "base_uri": "https://localhost:8080/"
        },
        "id": "8dXwSZgs_o7b",
        "outputId": "91815ca6-4d69-4f01-bcc9-d2fc0266c1ad"
      },
      "execution_count": 5,
      "outputs": [
        {
          "output_type": "stream",
          "name": "stdout",
          "text": [
            "Please enter the current temperature (in Celsius): 20\n",
            "Please enter the current wind speed (in km/h): 40\n",
            "Is it currently raining? (yes/no): yes\n",
            "[1] \"It's chilly and windy or rainy. Consider a warmer jacket or staying indoors.\"\n"
          ]
        }
      ]
    }
  ]
}
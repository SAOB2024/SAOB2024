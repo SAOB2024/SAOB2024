{
  "nbformat": 4,
  "nbformat_minor": 0,
  "metadata": {
    "colab": {
      "provenance": [],
      "authorship_tag": "ABX9TyOx/bc6sgq9C3vpsR+UJy70",
      "include_colab_link": true
    },
    "kernelspec": {
      "name": "python3",
      "display_name": "Python 3"
    },
    "language_info": {
      "name": "python"
    }
  },
  "cells": [
    {
      "cell_type": "markdown",
      "metadata": {
        "id": "view-in-github",
        "colab_type": "text"
      },
      "source": [
        "<a href=\"https://colab.research.google.com/github/SAOB2024/SAOB2024/blob/main/Craft_Store_Inventory_ipynb.ipynb\" target=\"_parent\"><img src=\"https://colab.research.google.com/assets/colab-badge.svg\" alt=\"Open In Colab\"/></a>"
      ]
    },
    {
      "cell_type": "code",
      "execution_count": null,
      "metadata": {
        "colab": {
          "base_uri": "https://localhost:8080/"
        },
        "id": "cFL5B-VJPp6t",
        "outputId": "648682da-156f-4a90-a9b7-4073ef20db3e"
      },
      "outputs": [
        {
          "output_type": "stream",
          "name": "stdout",
          "text": [
            "Enter the item to be added: milk\n",
            "Enter the quantity of the item: 50\n",
            "50 milk(s) added to the inventory.\n",
            "Inventory:\n",
            "50 milk(s)\n",
            "\n",
            "Inventory Management System\n",
            "1. Add Item\n",
            "2. Show Inventory\n",
            "3. Exit\n",
            "Enter your choice (1/2/3): 1\n",
            "Enter the item to be added: milk\n",
            "Enter the quantity of the item: 9\n",
            "9 milk(s) added to the inventory.\n",
            "\n",
            "Inventory Management System\n",
            "1. Add Item\n",
            "2. Show Inventory\n",
            "3. Exit\n",
            "Enter your choice (1/2/3): 3\n",
            "Exiting the Inventory Management System.\n"
          ]
        }
      ],
      "source": [
        "#Inventory List\n",
        "Inventory = []\n",
        "def add_item():\n",
        "    item = input(\"Enter the item to be added: \")\n",
        "    quantity = int(input(\"Enter the quantity of the item: \"))\n",
        "    Inventory.append({\"name\": item, \"quantity\": quantity})\n",
        "    print(f\"{quantity} {item}(s) added to the inventory.\")\n",
        "add_item()\n",
        "#Show Inventory\n",
        "def show_inventory():\n",
        "    print(\"Inventory:\")\n",
        "    for item in Inventory:\n",
        "        print(f\"{item['quantity']} {item['name']}(s)\")\n",
        "show_inventory()\n",
        "#Implementing main loop\n",
        "def main():\n",
        "    while True:\n",
        "        print(\"\\nInventory Management System\")\n",
        "        print(\"1. Add Item\")\n",
        "        print(\"2. Show Inventory\")\n",
        "        print(\"3. Exit\")\n",
        "        choice = input(\"Enter your choice (1/2/3): \")\n",
        "        if choice == \"1\":\n",
        "            add_item()\n",
        "        elif choice == \"2\":\n",
        "            show_inventory()\n",
        "        elif choice == \"3\":\n",
        "            print(\"Exiting the Inventory Management System.\")\n",
        "            break\n",
        "        else:\n",
        "            print(\"Invalid choice. Please try again.\")\n",
        "main()\n"
      ]
    },
    {
      "cell_type": "code",
      "source": [],
      "metadata": {
        "id": "Tg2zxjgkaNdt"
      },
      "execution_count": null,
      "outputs": []
    }
  ]
}